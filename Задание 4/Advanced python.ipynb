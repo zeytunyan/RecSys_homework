{
 "cells": [
  {
   "cell_type": "markdown",
   "metadata": {},
   "source": [
    "# Квадраты всех четных чисел (используя map и filter)"
   ]
  },
  {
   "cell_type": "code",
   "execution_count": 2,
   "metadata": {},
   "outputs": [
    {
     "name": "stdout",
     "output_type": "stream",
     "text": [
      "0\n",
      "4\n",
      "16\n",
      "36\n",
      "64\n",
      "100\n",
      "144\n"
     ]
    }
   ],
   "source": [
    "from itertools import count\n",
    "\n",
    "\n",
    "def squares_even():\n",
    "    even_nums = filter(lambda num: num % 2 == 0, count())\n",
    "    squares = map(lambda even: even ** 2, even_nums)\n",
    "    return squares\n",
    "\n",
    "for square in squares_even():\n",
    "    print(square)\n",
    "    if square > 100:\n",
    "        break"
   ]
  },
  {
   "cell_type": "markdown",
   "metadata": {},
   "source": [
    "# Дана входная строка и массив чисел, необходимо вернуть строку с теми буквами, которые стоят на указанных местах (используя list comprehensions)"
   ]
  },
  {
   "cell_type": "code",
   "execution_count": 3,
   "metadata": {},
   "outputs": [
    {
     "name": "stdout",
     "output_type": "stream",
     "text": [
      "смп\n"
     ]
    }
   ],
   "source": [
    "def letters_by_index(string, indexes):\n",
    "    letters = (string[i] for i in indexes)\n",
    "    return ''.join(letters)\n",
    "\n",
    "print(letters_by_index('Всем привет', [1, 3, 5]))"
   ]
  },
  {
   "cell_type": "markdown",
   "metadata": {},
   "source": [
    "# Дана входная строка и массив чисел, необходимо вернуть строку с теми буквами, которые стоят на указанных местах (не используя list comprehensions)"
   ]
  },
  {
   "cell_type": "code",
   "execution_count": 5,
   "metadata": {},
   "outputs": [
    {
     "name": "stdout",
     "output_type": "stream",
     "text": [
      "смп\n"
     ]
    }
   ],
   "source": [
    "def letters_by_index_no_comprehensions(string, indexes):\n",
    "    res_string = ''\n",
    "    for index in indexes:\n",
    "        res_string += string[index]\n",
    "    return res_string\n",
    "\n",
    "print(letters_by_index_no_comprehensions('Всем привет', [1, 3, 5]))"
   ]
  },
  {
   "cell_type": "markdown",
   "metadata": {},
   "source": [
    "# Дан текст (предложения разделены только точками), в котором буквы могут находиться в разных регистрах. Необходимо вернуть текст, в котором все буквы в нижнем регистре, а первые буквы каждого предложения – в верхнем."
   ]
  },
  {
   "cell_type": "code",
   "execution_count": 6,
   "metadata": {},
   "outputs": [
    {
     "name": "stdout",
     "output_type": "stream",
     "text": [
      "Первое предложение.   Второе . Третье\n"
     ]
    }
   ],
   "source": [
    "def first_letters_upper(text):\n",
    "    sentences = text.split('.')\n",
    "    for i, sentence in enumerate(sentences):\n",
    "        sentence = sentence.lstrip()\n",
    "        sentence = sentence[0].upper() + sentence[1:].lower()\n",
    "        sentences[i] = sentence.rjust(len(sentences[i])) \n",
    "    return '.'.join(sentences)\n",
    "\n",
    "text = 'пЕрвое предложение.   ВтороЕ . тРеТьЕ'\n",
    "print(first_letters_upper(text))"
   ]
  },
  {
   "cell_type": "markdown",
   "metadata": {},
   "source": [
    "# functools.reduce"
   ]
  },
  {
   "cell_type": "code",
   "execution_count": 7,
   "metadata": {},
   "outputs": [
    {
     "name": "stdout",
     "output_type": "stream",
     "text": [
      "11\n"
     ]
    }
   ],
   "source": [
    "def functools_reduce(function, iterable, initializer = None):\n",
    "    iterator = iter(iterable)\n",
    "    reduced = next(iterator) if initializer is None else initializer\n",
    "    for val in iterator:\n",
    "        reduced = function(reduced, val)\n",
    "    return reduced\n",
    "\n",
    "print(functools_reduce(lambda x, y: x + y, [1, 2, 3], 5))"
   ]
  },
  {
   "cell_type": "markdown",
   "metadata": {},
   "source": [
    "# Cоздайте функцию pipeline_each, в которую вы будете подавать итерируемый объект и список функций, которые последовательно надо к нему применить. Ответ – объект после применения функций в указанном порядке."
   ]
  },
  {
   "cell_type": "markdown",
   "metadata": {},
   "source": [
    "В этом задании я не понял, должны ли фукции применяться ко всему объекту целиком, или к каждому его элементу по отдельности, поэтому реализовал оба варианта."
   ]
  },
  {
   "cell_type": "code",
   "execution_count": 9,
   "metadata": {},
   "outputs": [
    {
     "name": "stdout",
     "output_type": "stream",
     "text": [
      "[1, 2, 3, 1, 2, 3, 1, 2, 3, 1, 2, 3, 1, 2, 3, 1, 2, 3, 1, 2, 3, 1, 2, 3, 1, 2, 3, 1, 2, 3, 1, 2, 3, 1, 2, 3, 1, 2, 3, 1, 2, 3, 1, 2, 3, 1, 2, 3, 1, 2, 3, 1, 2, 3, 1, 2, 3, 1, 2, 3, 1, 2, 3, 1, 2, 3, 1, 2, 3, 1, 2, 3]\n"
     ]
    }
   ],
   "source": [
    "def pipeline_each(iter_object, func_list):\n",
    "    for func in func_list:\n",
    "        iter_object = func(iter_object)\n",
    "    return iter_object\n",
    "\n",
    "functions_for_pipeline = [\n",
    "        lambda x: x * 3,\n",
    "        lambda x: x * 2,\n",
    "        lambda x: x * 4,\n",
    "    ]\n",
    "print(pipeline_each([1, 2, 3], functions_for_pipeline))"
   ]
  },
  {
   "cell_type": "markdown",
   "metadata": {},
   "source": [
    "В этом случае возвращает итератор, а не итерируемый объект.Потом его можно преобразовать к итерируемому типу, к которому нужно.\n",
    "А то вдруг туда кортеж например отправят, а его изменить попытаюсь."
   ]
  },
  {
   "cell_type": "code",
   "execution_count": 10,
   "metadata": {},
   "outputs": [
    {
     "name": "stdout",
     "output_type": "stream",
     "text": [
      "[24, 48, 72]\n"
     ]
    }
   ],
   "source": [
    "def pipeline_each(iter_object, func_list):\n",
    "    for element in iter_object:\n",
    "        for func in func_list:\n",
    "            element = func(element)\n",
    "        yield element\n",
    "        \n",
    "functions_for_pipeline = [\n",
    "        lambda x: x * 3,\n",
    "        lambda x: x * 2,\n",
    "        lambda x: x * 4,\n",
    "    ]\n",
    "print(list(pipeline_each([1, 2, 3], functions_for_pipeline)))"
   ]
  },
  {
   "cell_type": "markdown",
   "metadata": {},
   "source": [
    "# Написать генератор, возвращающий по очереди все слова, входящие в предложение."
   ]
  },
  {
   "cell_type": "markdown",
   "metadata": {},
   "source": [
    "Я полагаю, что знаки препинания, смайлики или другие символы не считаются словами. Если они тоже должны выводиться, то первую строку функции надо бы убрать."
   ]
  },
  {
   "cell_type": "code",
   "execution_count": 11,
   "metadata": {},
   "outputs": [
    {
     "name": "stdout",
     "output_type": "stream",
     "text": [
      "Раз\n",
      "два\n",
      "три\n"
     ]
    }
   ],
   "source": [
    "def words_from_sentence(input_sentence):\n",
    "    only_alphas = filter(lambda symbol: symbol.isalpha() or symbol.isspace(), input_sentence)\n",
    "    splitted = ''.join(only_alphas).split()\n",
    "    for word in splitted:\n",
    "        yield word\n",
    "        \n",
    "for word_from_sentence in words_from_sentence('Раз  ,   два три '):\n",
    "    print(word_from_sentence)"
   ]
  },
  {
   "cell_type": "markdown",
   "metadata": {},
   "source": [
    "# Написать генератор псевдо случайных чисел\n",
    "◦ Генератор внутри задается какой-нибудь формулой, которая выдает\n",
    "«случайный» результат\n",
    "\n",
    "◦ На вход генератору приходит seed – начальное значение, при\n",
    "одинаковых начальных значениях два генератора будут выдавать\n",
    "одинаковые следующие значения"
   ]
  },
  {
   "cell_type": "code",
   "execution_count": 12,
   "metadata": {},
   "outputs": [
    {
     "name": "stdout",
     "output_type": "stream",
     "text": [
      "45\n",
      "36\n",
      "33\n",
      "32\n",
      "54\n"
     ]
    }
   ],
   "source": [
    "def rand_generator(seed):\n",
    "    a, c, m = 45, 21, 67\n",
    "    while True:\n",
    "        seed = (seed * a + c) % m\n",
    "        yield seed\n",
    "\n",
    "randoms = rand_generator(5)\n",
    "for i in range(5):\n",
    "    print(next(randoms))"
   ]
  },
  {
   "cell_type": "markdown",
   "metadata": {},
   "source": [
    "# Написать корутину, которая реализует бесконечную арифметическую прогрессию с возможностью перезапуска с любого места (3, 4, 5, 6, send(30), 31, 32, 33, …)"
   ]
  },
  {
   "cell_type": "code",
   "execution_count": 13,
   "metadata": {},
   "outputs": [
    {
     "name": "stdout",
     "output_type": "stream",
     "text": [
      "0\n",
      "1\n",
      "2\n",
      "31\n",
      "32\n",
      "33\n"
     ]
    }
   ],
   "source": [
    "from itertools import count\n",
    "\n",
    "\n",
    "def arithmetic_progression():\n",
    "    counter = count()\n",
    "    while True:\n",
    "        sent_num = yield next(counter)\n",
    "        if sent_num is not None: \n",
    "            counter = count(sent_num)\n",
    "            \n",
    "progression = arithmetic_progression()\n",
    "print(next(progression))\n",
    "print(next(progression))\n",
    "print(next(progression))\n",
    "progression.send(30)\n",
    "print(next(progression))\n",
    "print(next(progression))\n",
    "print(next(progression))"
   ]
  },
  {
   "cell_type": "code",
   "execution_count": null,
   "metadata": {},
   "outputs": [],
   "source": []
  }
 ],
 "metadata": {
  "kernelspec": {
   "display_name": "Python 3",
   "language": "python",
   "name": "python3"
  },
  "language_info": {
   "codemirror_mode": {
    "name": "ipython",
    "version": 3
   },
   "file_extension": ".py",
   "mimetype": "text/x-python",
   "name": "python",
   "nbconvert_exporter": "python",
   "pygments_lexer": "ipython3",
   "version": "3.7.4"
  }
 },
 "nbformat": 4,
 "nbformat_minor": 2
}
